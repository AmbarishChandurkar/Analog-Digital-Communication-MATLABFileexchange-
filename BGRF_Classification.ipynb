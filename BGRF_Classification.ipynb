{
  "nbformat": 4,
  "nbformat_minor": 0,
  "metadata": {
    "colab": {
      "name": "BGRF_Classification.ipynb",
      "provenance": [],
      "collapsed_sections": [],
      "toc_visible": true
    },
    "kernelspec": {
      "display_name": "Python 3",
      "language": "python",
      "name": "python3"
    },
    "language_info": {
      "codemirror_mode": {
        "name": "ipython",
        "version": 3
      },
      "file_extension": ".py",
      "mimetype": "text/x-python",
      "name": "python",
      "nbconvert_exporter": "python",
      "pygments_lexer": "ipython3",
      "version": "3.7.5-final"
    }
  },
  "cells": [
    {
      "cell_type": "code",
      "metadata": {
        "id": "HkTecP6Wxkcq"
      },
      "source": [
        "from importlib import reload\n",
        "reload(iup)"
      ],
      "execution_count": null,
      "outputs": []
    },
    {
      "cell_type": "code",
      "metadata": {
        "id": "Ls0ctoNgP1dC",
        "outputId": "4a4b7731-129a-4cfc-c4fe-ee477c0d14c1",
        "colab": {
          "base_uri": "https://localhost:8080/",
          "height": 34
        }
      },
      "source": [
        "from google.colab import drive\n",
        "drive.mount('/content/drive')"
      ],
      "execution_count": 1,
      "outputs": [
        {
          "output_type": "stream",
          "text": [
            "Mounted at /content/drive\n"
          ],
          "name": "stdout"
        }
      ]
    },
    {
      "cell_type": "markdown",
      "metadata": {
        "id": "T6a_8LvjkCnr"
      },
      "source": [
        "# **Part 1 : Data Import**"
      ]
    },
    {
      "cell_type": "markdown",
      "metadata": {
        "id": "rivgA_-w1Nv8"
      },
      "source": [
        "## **Step 1.1 : Get the Utterance Files** "
      ]
    },
    {
      "cell_type": "code",
      "metadata": {
        "id": "Bwz0hG5IixSQ",
        "outputId": "9e07afbf-a076-4f15-9c2d-01b1fec6712d",
        "colab": {
          "base_uri": "https://localhost:8080/",
          "height": 263
        }
      },
      "source": [
        "!pip install tftb"
      ],
      "execution_count": 2,
      "outputs": [
        {
          "output_type": "stream",
          "text": [
            "Collecting tftb\n",
            "\u001b[?25l  Downloading https://files.pythonhosted.org/packages/b4/bd/0693f7329d87e18cc9a6fa34ec2c1bf4b30a3239fb66013a0d6bd371e627/tftb-0.1.1-py3-none-any.whl (54kB)\n",
            "\r\u001b[K     |██████                          | 10kB 13.4MB/s eta 0:00:01\r\u001b[K     |████████████                    | 20kB 1.8MB/s eta 0:00:01\r\u001b[K     |██████████████████              | 30kB 2.4MB/s eta 0:00:01\r\u001b[K     |███████████████████████▉        | 40kB 2.6MB/s eta 0:00:01\r\u001b[K     |█████████████████████████████▉  | 51kB 2.1MB/s eta 0:00:01\r\u001b[K     |████████████████████████████████| 61kB 1.9MB/s \n",
            "\u001b[?25hRequirement already satisfied: matplotlib in /usr/local/lib/python3.6/dist-packages (from tftb) (3.2.2)\n",
            "Requirement already satisfied: numpy in /usr/local/lib/python3.6/dist-packages (from tftb) (1.18.5)\n",
            "Requirement already satisfied: scipy in /usr/local/lib/python3.6/dist-packages (from tftb) (1.4.1)\n",
            "Requirement already satisfied: python-dateutil>=2.1 in /usr/local/lib/python3.6/dist-packages (from matplotlib->tftb) (2.8.1)\n",
            "Requirement already satisfied: cycler>=0.10 in /usr/local/lib/python3.6/dist-packages (from matplotlib->tftb) (0.10.0)\n",
            "Requirement already satisfied: kiwisolver>=1.0.1 in /usr/local/lib/python3.6/dist-packages (from matplotlib->tftb) (1.2.0)\n",
            "Requirement already satisfied: pyparsing!=2.0.4,!=2.1.2,!=2.1.6,>=2.0.1 in /usr/local/lib/python3.6/dist-packages (from matplotlib->tftb) (2.4.7)\n",
            "Requirement already satisfied: six>=1.5 in /usr/local/lib/python3.6/dist-packages (from python-dateutil>=2.1->matplotlib->tftb) (1.15.0)\n",
            "Installing collected packages: tftb\n",
            "Successfully installed tftb-0.1.1\n"
          ],
          "name": "stdout"
        }
      ]
    },
    {
      "cell_type": "code",
      "metadata": {
        "id": "7pV_J6juYqJd"
      },
      "source": [
        "import sys\n",
        "sys.path.append('/content/IEMOCAPFeatures_Utility.py')\n",
        "import IEMOCAPFeatures_Utility as iup"
      ],
      "execution_count": 3,
      "outputs": []
    },
    {
      "cell_type": "code",
      "metadata": {
        "tags": [],
        "id": "ASaYUcBz1Nv_"
      },
      "source": [
        "import IEMOCAPFeatures_Utility as iup\n",
        "import pandas as pd\n",
        "Sessions = [1,2,3,4,5]\n",
        "Utterances = pd.DataFrame()\n",
        "for S in Sessions:\n",
        "  Utterances = pd.concat([Utterances,pd.read_pickle('/content/drive/My Drive/IIIT  College files/4th Year - 7th Semester (Internship)/IEMOCAP_DB/Features and Pickles/UtteranceInfo_S' + str(S) + '.pkl')])  \n",
        "Utterances.head()"
      ],
      "execution_count": null,
      "outputs": []
    },
    {
      "cell_type": "code",
      "metadata": {
        "id": "4gRXIBBkYIci"
      },
      "source": [
        "iup.GetSummary(Utterances)"
      ],
      "execution_count": null,
      "outputs": []
    },
    {
      "cell_type": "code",
      "metadata": {
        "id": "rX9Lx-Jj2xX5"
      },
      "source": [
        "iup.GetSummary(Labels)"
      ],
      "execution_count": null,
      "outputs": []
    },
    {
      "cell_type": "markdown",
      "metadata": {
        "id": "UWjn8HAoYIcq"
      },
      "source": [
        "## **Step 1.2 : Import Feature Data**"
      ]
    },
    {
      "cell_type": "code",
      "metadata": {
        "tags": [],
        "id": "qawN_D_tEbF8",
        "outputId": "b36b6f78-4979-4628-c512-099793a0f918",
        "colab": {
          "base_uri": "https://localhost:8080/",
          "height": 206
        }
      },
      "source": [
        "import pandas as pd\n",
        "Sessions = [1,2,3,4,5]\n",
        "DataSet = pd.DataFrame()\n",
        "Root = '/content/drive/My Drive/IIIT  College files/4th Year - 7th Semester (Internship)/IEMOCAP_DB/Features and Pickles'\n",
        "for S in Sessions:\n",
        "  DataSet = pd.concat([DataSet,pd.read_pickle(Root + '/FS_S' + str(S) + '.pkl')])\n",
        "#FeatureSet = FeatureSet.sample(200)\n",
        "DataSet.head()"
      ],
      "execution_count": 4,
      "outputs": [
        {
          "output_type": "execute_result",
          "data": {
            "text/html": [
              "<div>\n",
              "<style scoped>\n",
              "    .dataframe tbody tr th:only-of-type {\n",
              "        vertical-align: middle;\n",
              "    }\n",
              "\n",
              "    .dataframe tbody tr th {\n",
              "        vertical-align: top;\n",
              "    }\n",
              "\n",
              "    .dataframe thead th {\n",
              "        text-align: right;\n",
              "    }\n",
              "</style>\n",
              "<table border=\"1\" class=\"dataframe\">\n",
              "  <thead>\n",
              "    <tr style=\"text-align: right;\">\n",
              "      <th></th>\n",
              "      <th>Batch</th>\n",
              "      <th>TURN_NAME</th>\n",
              "      <th>V</th>\n",
              "      <th>BatchLengths</th>\n",
              "    </tr>\n",
              "  </thead>\n",
              "  <tbody>\n",
              "    <tr>\n",
              "      <th>0</th>\n",
              "      <td>[[-0.00023150803770010604, 0.00030262782423969...</td>\n",
              "      <td>Ses01F_impro01_F000</td>\n",
              "      <td>2.5</td>\n",
              "      <td>97</td>\n",
              "    </tr>\n",
              "    <tr>\n",
              "      <th>1</th>\n",
              "      <td>[[1.4191344989205311e-05, -1.8921462174550534e...</td>\n",
              "      <td>Ses01F_impro01_F001</td>\n",
              "      <td>2.5</td>\n",
              "      <td>69</td>\n",
              "    </tr>\n",
              "    <tr>\n",
              "      <th>2</th>\n",
              "      <td>[[0.00011663194451581222, -0.00014325878166155...</td>\n",
              "      <td>Ses01F_impro01_F002</td>\n",
              "      <td>2.5</td>\n",
              "      <td>156</td>\n",
              "    </tr>\n",
              "    <tr>\n",
              "      <th>3</th>\n",
              "      <td>[[-0.0002869330655657432, 0.000352191164916809...</td>\n",
              "      <td>Ses01F_impro01_F003</td>\n",
              "      <td>2.5</td>\n",
              "      <td>74</td>\n",
              "    </tr>\n",
              "    <tr>\n",
              "      <th>4</th>\n",
              "      <td>[[-0.0001057988882744807, 5.182847164486578e-0...</td>\n",
              "      <td>Ses01F_impro01_F004</td>\n",
              "      <td>2.5</td>\n",
              "      <td>170</td>\n",
              "    </tr>\n",
              "  </tbody>\n",
              "</table>\n",
              "</div>"
            ],
            "text/plain": [
              "                                               Batch  ... BatchLengths\n",
              "0  [[-0.00023150803770010604, 0.00030262782423969...  ...           97\n",
              "1  [[1.4191344989205311e-05, -1.8921462174550534e...  ...           69\n",
              "2  [[0.00011663194451581222, -0.00014325878166155...  ...          156\n",
              "3  [[-0.0002869330655657432, 0.000352191164916809...  ...           74\n",
              "4  [[-0.0001057988882744807, 5.182847164486578e-0...  ...          170\n",
              "\n",
              "[5 rows x 4 columns]"
            ]
          },
          "metadata": {
            "tags": []
          },
          "execution_count": 4
        }
      ]
    },
    {
      "cell_type": "code",
      "metadata": {
        "id": "2SS56LdvEbGG",
        "outputId": "472575e8-29c0-4b2b-d208-7179b8ac2444",
        "colab": {
          "base_uri": "https://localhost:8080/",
          "height": 708
        }
      },
      "source": [
        "iup.GetSummary(DataSet)"
      ],
      "execution_count": 5,
      "outputs": [
        {
          "output_type": "execute_result",
          "data": {
            "text/html": [
              "<div>\n",
              "<style scoped>\n",
              "    .dataframe tbody tr th:only-of-type {\n",
              "        vertical-align: middle;\n",
              "    }\n",
              "\n",
              "    .dataframe tbody tr th {\n",
              "        vertical-align: top;\n",
              "    }\n",
              "\n",
              "    .dataframe thead th {\n",
              "        text-align: right;\n",
              "    }\n",
              "</style>\n",
              "<table border=\"1\" class=\"dataframe\">\n",
              "  <thead>\n",
              "    <tr style=\"text-align: right;\">\n",
              "      <th></th>\n",
              "      <th>Valence</th>\n",
              "      <th>Count</th>\n",
              "    </tr>\n",
              "  </thead>\n",
              "  <tbody>\n",
              "    <tr>\n",
              "      <th>0</th>\n",
              "      <td>1.0000</td>\n",
              "      <td>126.0</td>\n",
              "    </tr>\n",
              "    <tr>\n",
              "      <th>1</th>\n",
              "      <td>1.3333</td>\n",
              "      <td>18.0</td>\n",
              "    </tr>\n",
              "    <tr>\n",
              "      <th>2</th>\n",
              "      <td>1.5000</td>\n",
              "      <td>925.0</td>\n",
              "    </tr>\n",
              "    <tr>\n",
              "      <th>3</th>\n",
              "      <td>1.6667</td>\n",
              "      <td>79.0</td>\n",
              "    </tr>\n",
              "    <tr>\n",
              "      <th>4</th>\n",
              "      <td>2.0000</td>\n",
              "      <td>2075.0</td>\n",
              "    </tr>\n",
              "    <tr>\n",
              "      <th>5</th>\n",
              "      <td>2.3333</td>\n",
              "      <td>198.0</td>\n",
              "    </tr>\n",
              "    <tr>\n",
              "      <th>6</th>\n",
              "      <td>2.5000</td>\n",
              "      <td>1935.0</td>\n",
              "    </tr>\n",
              "    <tr>\n",
              "      <th>7</th>\n",
              "      <td>2.6667</td>\n",
              "      <td>170.0</td>\n",
              "    </tr>\n",
              "    <tr>\n",
              "      <th>8</th>\n",
              "      <td>3.0000</td>\n",
              "      <td>1607.0</td>\n",
              "    </tr>\n",
              "    <tr>\n",
              "      <th>9</th>\n",
              "      <td>3.3333</td>\n",
              "      <td>80.0</td>\n",
              "    </tr>\n",
              "    <tr>\n",
              "      <th>10</th>\n",
              "      <td>3.5000</td>\n",
              "      <td>816.0</td>\n",
              "    </tr>\n",
              "    <tr>\n",
              "      <th>11</th>\n",
              "      <td>3.6667</td>\n",
              "      <td>62.0</td>\n",
              "    </tr>\n",
              "    <tr>\n",
              "      <th>12</th>\n",
              "      <td>3.7500</td>\n",
              "      <td>1.0</td>\n",
              "    </tr>\n",
              "    <tr>\n",
              "      <th>13</th>\n",
              "      <td>4.0000</td>\n",
              "      <td>1347.0</td>\n",
              "    </tr>\n",
              "    <tr>\n",
              "      <th>14</th>\n",
              "      <td>4.2500</td>\n",
              "      <td>14.0</td>\n",
              "    </tr>\n",
              "    <tr>\n",
              "      <th>15</th>\n",
              "      <td>4.3333</td>\n",
              "      <td>39.0</td>\n",
              "    </tr>\n",
              "    <tr>\n",
              "      <th>16</th>\n",
              "      <td>4.5000</td>\n",
              "      <td>407.0</td>\n",
              "    </tr>\n",
              "    <tr>\n",
              "      <th>17</th>\n",
              "      <td>4.6667</td>\n",
              "      <td>18.0</td>\n",
              "    </tr>\n",
              "    <tr>\n",
              "      <th>18</th>\n",
              "      <td>4.7500</td>\n",
              "      <td>7.0</td>\n",
              "    </tr>\n",
              "    <tr>\n",
              "      <th>19</th>\n",
              "      <td>5.0000</td>\n",
              "      <td>111.0</td>\n",
              "    </tr>\n",
              "    <tr>\n",
              "      <th>20</th>\n",
              "      <td>5.5000</td>\n",
              "      <td>4.0</td>\n",
              "    </tr>\n",
              "  </tbody>\n",
              "</table>\n",
              "</div>"
            ],
            "text/plain": [
              "    Valence   Count\n",
              "0    1.0000   126.0\n",
              "1    1.3333    18.0\n",
              "2    1.5000   925.0\n",
              "3    1.6667    79.0\n",
              "4    2.0000  2075.0\n",
              "5    2.3333   198.0\n",
              "6    2.5000  1935.0\n",
              "7    2.6667   170.0\n",
              "8    3.0000  1607.0\n",
              "9    3.3333    80.0\n",
              "10   3.5000   816.0\n",
              "11   3.6667    62.0\n",
              "12   3.7500     1.0\n",
              "13   4.0000  1347.0\n",
              "14   4.2500    14.0\n",
              "15   4.3333    39.0\n",
              "16   4.5000   407.0\n",
              "17   4.6667    18.0\n",
              "18   4.7500     7.0\n",
              "19   5.0000   111.0\n",
              "20   5.5000     4.0"
            ]
          },
          "metadata": {
            "tags": []
          },
          "execution_count": 5
        }
      ]
    },
    {
      "cell_type": "code",
      "metadata": {
        "id": "j-8qn8DV2iUn"
      },
      "source": [
        "NT = 2.4\n",
        "PT = 3.9\n",
        "Labels = {'Negative':0,'Neutral':1,'Positive':2}\n",
        "DataSet['V'] = DataSet['V'].apply(lambda x : Labels['Negative'] if x < NT \\\n",
        "                                        else Labels['Positive'] if x > PT else Labels['Neutral'])"
      ],
      "execution_count": 6,
      "outputs": []
    },
    {
      "cell_type": "code",
      "metadata": {
        "id": "hfJtc5OHT1vH",
        "outputId": "50f82dd9-8da4-4ac4-871c-4b6993b6e6bc",
        "colab": {
          "base_uri": "https://localhost:8080/",
          "height": 143
        }
      },
      "source": [
        "iup.GetSummary(DataSet)"
      ],
      "execution_count": 9,
      "outputs": [
        {
          "output_type": "execute_result",
          "data": {
            "text/html": [
              "<div>\n",
              "<style scoped>\n",
              "    .dataframe tbody tr th:only-of-type {\n",
              "        vertical-align: middle;\n",
              "    }\n",
              "\n",
              "    .dataframe tbody tr th {\n",
              "        vertical-align: top;\n",
              "    }\n",
              "\n",
              "    .dataframe thead th {\n",
              "        text-align: right;\n",
              "    }\n",
              "</style>\n",
              "<table border=\"1\" class=\"dataframe\">\n",
              "  <thead>\n",
              "    <tr style=\"text-align: right;\">\n",
              "      <th></th>\n",
              "      <th>Valence</th>\n",
              "      <th>Count</th>\n",
              "    </tr>\n",
              "  </thead>\n",
              "  <tbody>\n",
              "    <tr>\n",
              "      <th>0</th>\n",
              "      <td>0.0</td>\n",
              "      <td>1947.0</td>\n",
              "    </tr>\n",
              "    <tr>\n",
              "      <th>1</th>\n",
              "      <td>1.0</td>\n",
              "      <td>1947.0</td>\n",
              "    </tr>\n",
              "    <tr>\n",
              "      <th>2</th>\n",
              "      <td>2.0</td>\n",
              "      <td>1947.0</td>\n",
              "    </tr>\n",
              "  </tbody>\n",
              "</table>\n",
              "</div>"
            ],
            "text/plain": [
              "   Valence   Count\n",
              "0      0.0  1947.0\n",
              "1      1.0  1947.0\n",
              "2      2.0  1947.0"
            ]
          },
          "metadata": {
            "tags": []
          },
          "execution_count": 9
        }
      ]
    },
    {
      "cell_type": "code",
      "metadata": {
        "id": "TdM7nZ_s8Fna"
      },
      "source": [
        "Temp = pd.DataFrame()\n",
        "for V in Labels.values():\n",
        "  Temp = pd.concat([Temp, DataSet[DataSet['V'] == V].sample(int(min(iup.GetSummary(DataSet)['Count'])))],ignore_index=True)\n",
        "DataSet = Temp"
      ],
      "execution_count": 7,
      "outputs": []
    },
    {
      "cell_type": "code",
      "metadata": {
        "id": "AtATkTKSjAEO"
      },
      "source": [
        "from sklearn.model_selection import train_test_split\n",
        "_,FeatureSet = train_test_split(DataSet,stratify = DataSet.V,test_size = 100)"
      ],
      "execution_count": 19,
      "outputs": []
    },
    {
      "cell_type": "markdown",
      "metadata": {
        "id": "GTH3G0PLWvft"
      },
      "source": [
        "# **Part 2 : Model Building**"
      ]
    },
    {
      "cell_type": "markdown",
      "metadata": {
        "id": "8OpEHwcwTKT7"
      },
      "source": [
        "## **Step 2.1 : Split in Train and Test Data**"
      ]
    },
    {
      "cell_type": "code",
      "metadata": {
        "id": "0V4YAoMWbGoU"
      },
      "source": [
        "TrainDataSet, DevDataSet = train_test_split(FeatureSet, test_size = 0.2\\\n",
        "                                            ,stratify = FeatureSet.V)"
      ],
      "execution_count": 26,
      "outputs": []
    },
    {
      "cell_type": "code",
      "metadata": {
        "id": "FZD8HFk1EbHA"
      },
      "source": [
        "TrainSummary = iup.GetSummary(TrainDataSet)\n",
        "DevSummary = iup.GetSummary(DevDataSet)\n",
        "n_TrainSamples_BefAug = TrainSummary['Count'].to_numpy().tolist()\n",
        "n_DevSamples_BefAug = DevSummary['Count'].to_numpy().tolist()"
      ],
      "execution_count": 27,
      "outputs": []
    },
    {
      "cell_type": "code",
      "metadata": {
        "tags": [],
        "id": "DmJDt2pyEbHG",
        "outputId": "4cbfcc40-1c98-40ca-fb50-c93681bbbd3f",
        "colab": {
          "base_uri": "https://localhost:8080/",
          "height": 52
        }
      },
      "source": [
        "import numpy as np\n",
        "from tqdm import tqdm\n",
        "BatLenTHR = 1\n",
        "TrainX, TrainY, TrainNames = iup.AugmentData(TrainDataSet,BatLenTHR)\n",
        "DevX, DevY, DevNames = iup.AugmentData(DevDataSet,BatLenTHR)\n",
        "n_TrainSamples_AftAug = iup.GetSummary(pd.DataFrame(TrainY,columns=['V']))['Count'].to_numpy().tolist()\n",
        "n_Devamples_AftAug =  iup.GetSummary(pd.DataFrame(DevY,columns=['V']))['Count'].to_numpy().tolist()"
      ],
      "execution_count": 28,
      "outputs": [
        {
          "output_type": "stream",
          "text": [
            "100%|██████████| 80/80 [00:00<00:00, 423.65it/s]\n",
            "100%|██████████| 20/20 [00:00<00:00, 617.04it/s]\n"
          ],
          "name": "stderr"
        }
      ]
    },
    {
      "cell_type": "code",
      "metadata": {
        "id": "YSGYYPyvPZ5b"
      },
      "source": [
        "TrainSilent = np.array(list(map(lambda x : True if x[:,-2] <= 0.12 else False,TrainX)))\n",
        "DevSilent = np.array(list(map(lambda x : True if x[:,-2] <= 0.12 else False,DevX)))"
      ],
      "execution_count": 29,
      "outputs": []
    },
    {
      "cell_type": "code",
      "metadata": {
        "id": "ILasK2p2EbHL"
      },
      "source": [
        "TrainX = np.array(list(map(lambda x : x[0],TrainX)))\n",
        "DevX = np.array(list(map(lambda x : x[0],DevX)))"
      ],
      "execution_count": 30,
      "outputs": []
    },
    {
      "cell_type": "code",
      "metadata": {
        "tags": [],
        "id": "cstqpGyNEbHQ",
        "outputId": "63a1983f-fcaf-4629-d752-90754578fbdf",
        "colab": {
          "base_uri": "https://localhost:8080/",
          "height": 52
        }
      },
      "source": [
        "print('Training Data : ',TrainX.shape, 'Labels :', TrainY.shape)\n",
        "print('Development Data : ',DevX.shape, 'Labels :', DevY.shape)"
      ],
      "execution_count": 31,
      "outputs": [
        {
          "output_type": "stream",
          "text": [
            "Training Data :  (19106, 12) Labels : (19106,)\n",
            "Development Data :  (4326, 12) Labels : (4326,)\n"
          ],
          "name": "stdout"
        }
      ]
    },
    {
      "cell_type": "markdown",
      "metadata": {
        "id": "p7mLRcFhVoOD"
      },
      "source": [
        "## **Step 2.2 : Model Training on Train Set and observing the thresholds**"
      ]
    },
    {
      "cell_type": "code",
      "metadata": {
        "id": "0flYnD_kSrUB",
        "tags": [],
        "outputId": "63a2398d-95da-4134-9725-d44a82033992",
        "colab": {
          "base_uri": "https://localhost:8080/",
          "height": 434
        }
      },
      "source": [
        "from sklearn.ensemble import BaggingRegressor, RandomForestRegressor\n",
        "model = BaggingRegressor(base_estimator = RandomForestRegressor(n_jobs = -1),n_estimators = 50, verbose=1, n_jobs = -1)\n",
        "model.fit(TrainX[~TrainSilent],TrainY[~TrainSilent])"
      ],
      "execution_count": 36,
      "outputs": [
        {
          "output_type": "stream",
          "text": [
            "[Parallel(n_jobs=2)]: Using backend LokyBackend with 2 concurrent workers.\n",
            "[Parallel(n_jobs=2)]: Done   2 out of   2 | elapsed:  3.9min remaining:    0.0s\n",
            "[Parallel(n_jobs=2)]: Done   2 out of   2 | elapsed:  3.9min finished\n"
          ],
          "name": "stderr"
        },
        {
          "output_type": "execute_result",
          "data": {
            "text/plain": [
              "BaggingRegressor(base_estimator=RandomForestRegressor(bootstrap=True,\n",
              "                                                      ccp_alpha=0.0,\n",
              "                                                      criterion='mse',\n",
              "                                                      max_depth=None,\n",
              "                                                      max_features='auto',\n",
              "                                                      max_leaf_nodes=None,\n",
              "                                                      max_samples=None,\n",
              "                                                      min_impurity_decrease=0.0,\n",
              "                                                      min_impurity_split=None,\n",
              "                                                      min_samples_leaf=1,\n",
              "                                                      min_samples_split=2,\n",
              "                                                      min_weight_fraction_leaf=0.0,\n",
              "                                                      n_estimators=100,\n",
              "                                                      n_jobs=-1,\n",
              "                                                      oob_score=False,\n",
              "                                                      random_state=None,\n",
              "                                                      verbose=0,\n",
              "                                                      warm_start=False),\n",
              "                 bootstrap=True, bootstrap_features=False, max_features=1.0,\n",
              "                 max_samples=1.0, n_estimators=50, n_jobs=-1, oob_score=False,\n",
              "                 random_state=None, verbose=1, warm_start=False)"
            ]
          },
          "metadata": {
            "tags": []
          },
          "execution_count": 36
        }
      ]
    },
    {
      "cell_type": "markdown",
      "metadata": {
        "id": "QrJSsErMW-LV"
      },
      "source": [
        "# **Part 3 : Post-processing**"
      ]
    },
    {
      "cell_type": "markdown",
      "metadata": {
        "id": "68hufmZsJM56"
      },
      "source": [
        "## **Step 3.1 : Statistical Guess of the Thresholds**\n"
      ]
    },
    {
      "cell_type": "code",
      "metadata": {
        "id": "y27nkMwtp7Iy",
        "outputId": "9dab9a97-edc9-421c-cf1d-d14cc57e47ac",
        "colab": {
          "base_uri": "https://localhost:8080/",
          "height": 69
        }
      },
      "source": [
        "TrainDataResults = pd.DataFrame([])\n",
        "TrainDataResults['SampleName'] = TrainNames[~TrainSilent]\n",
        "TrainDataResults['Actual'] = TrainY[~TrainSilent]\n",
        "TrainDataResults['Predicted'] = model.predict(TrainX[~TrainSilent])\n",
        "TrainDataResults = TrainDataResults.sort_values('Actual')"
      ],
      "execution_count": 37,
      "outputs": [
        {
          "output_type": "stream",
          "text": [
            "[Parallel(n_jobs=2)]: Using backend LokyBackend with 2 concurrent workers.\n",
            "[Parallel(n_jobs=2)]: Done   2 out of   2 | elapsed:   13.2s remaining:    0.0s\n",
            "[Parallel(n_jobs=2)]: Done   2 out of   2 | elapsed:   13.2s finished\n"
          ],
          "name": "stderr"
        }
      ]
    },
    {
      "cell_type": "code",
      "metadata": {
        "id": "_U5OoQY-J5wY",
        "outputId": "a1e4472e-89b4-44a4-f4e7-aee2a8e07cb1",
        "colab": {
          "base_uri": "https://localhost:8080/",
          "height": 404
        }
      },
      "source": [
        "PT = 1.20\n",
        "NT = 0.78\n",
        "iup.plotResults(TrainDataResults,NT,PT,'Train','BGRFTrain')"
      ],
      "execution_count": 47,
      "outputs": [
        {
          "output_type": "display_data",
          "data": {
            "image/png": "[encoded data removed]",
            "text/plain": [
              "<Figure size 576x432 with 1 Axes>"
            ]
          },
          "metadata": {
            "tags": [],
            "needs_background": "light"
          }
        }
      ]
    },
    {
      "cell_type": "code",
      "metadata": {
        "id": "sPShCHB5x996"
      },
      "source": [
        "TrainDataResults['Thresholded'] = TrainDataResults['Predicted'].apply(lambda x : Labels['Negative'] if x < NT\\\n",
        "                                                    else Labels['Positive'] if x > PT else Labels['Neutral'])"
      ],
      "execution_count": 48,
      "outputs": []
    },
    {
      "cell_type": "code",
      "metadata": {
        "id": "WEcH_qv3iB-I",
        "tags": [],
        "outputId": "410ad3ed-2e32-4472-d7dd-e6ab69facdba",
        "colab": {
          "base_uri": "https://localhost:8080/",
          "height": 347
        }
      },
      "source": [
        "_,_ = iup.GetCMandMetrics(TrainDataResults,'Train','TrainCM',Labels)"
      ],
      "execution_count": 49,
      "outputs": [
        {
          "output_type": "stream",
          "text": [
            "Labels are : {'Negative': 0, 'Neutral': 1, 'Positive': 2}\n",
            "UAR for Train Set  =  0.9370431213132063\n",
            "Classwise Accuracy for Train Set ['Negative', 'Neutral', 'Positive'] [0.95556276 0.9055666  0.95      ]\n"
          ],
          "name": "stdout"
        },
        {
          "output_type": "display_data",
          "data": {
            "image/png": "[encoded data removed]",
            "text/plain": [
              "<Figure size 432x288 with 2 Axes>"
            ]
          },
          "metadata": {
            "tags": [],
            "needs_background": "light"
          }
        }
      ]
    },
    {
      "cell_type": "markdown",
      "metadata": {
        "id": "e7_fK0inK_m1"
      },
      "source": [
        "## **Step 3.2 : Run Model on Validation and apply Thresholds on them**"
      ]
    },
    {
      "cell_type": "code",
      "metadata": {
        "id": "MkeitAh7x9-E",
        "outputId": "322b235d-032c-4c73-ae2d-ce6954e58541",
        "colab": {
          "base_uri": "https://localhost:8080/",
          "height": 69
        }
      },
      "source": [
        "DevDataResults = pd.DataFrame([])\n",
        "DevDataResults['SampleName'] = DevNames[~DevSilent]\n",
        "DevDataResults['Actual'] = DevY[~DevSilent]\n",
        "DevDataResults['Predicted'] = model.predict(DevX[~DevSilent])\n",
        "DevDataResults = DevDataResults.sort_values('Actual')"
      ],
      "execution_count": 50,
      "outputs": [
        {
          "output_type": "stream",
          "text": [
            "[Parallel(n_jobs=2)]: Using backend LokyBackend with 2 concurrent workers.\n",
            "[Parallel(n_jobs=2)]: Done   2 out of   2 | elapsed:    9.8s remaining:    0.0s\n",
            "[Parallel(n_jobs=2)]: Done   2 out of   2 | elapsed:    9.8s finished\n"
          ],
          "name": "stderr"
        }
      ]
    },
    {
      "cell_type": "code",
      "metadata": {
        "id": "DoSuatFhx9-M",
        "outputId": "8c8e7675-7d73-4880-b00e-0373f238610e",
        "colab": {
          "base_uri": "https://localhost:8080/",
          "height": 404
        }
      },
      "source": [
        "iup.plotResults(DevDataResults,NT,PT,'Development','BGRFDev')"
      ],
      "execution_count": 51,
      "outputs": [
        {
          "output_type": "display_data",
          "data": {
            "image/png": "[encoded data removed]",
            "text/plain": [
              "<Figure size 576x432 with 1 Axes>"
            ]
          },
          "metadata": {
            "tags": [],
            "needs_background": "light"
          }
        }
      ]
    },
    {
      "cell_type": "code",
      "metadata": {
        "id": "Hf6zo76OLejW",
        "outputId": "8f0a0c9e-9a99-45ef-cc68-50e8224b5bf4",
        "colab": {
          "base_uri": "https://localhost:8080/",
          "height": 347
        }
      },
      "source": [
        "DevDataResults['Thresholded'] = DevDataResults['Predicted'].apply(lambda x : Labels['Negative'] if x < NT\\\n",
        "                                                    else Labels['Positive'] if x > PT else Labels['Neutral'])\n",
        "_,_ = iup.GetCMandMetrics(DevDataResults,'Development','BGRFDevCM',Labels)"
      ],
      "execution_count": 52,
      "outputs": [
        {
          "output_type": "stream",
          "text": [
            "Labels are : {'Negative': 0, 'Neutral': 1, 'Positive': 2}\n",
            "UAR for Development Set  =  0.3881626721011893\n",
            "Classwise Accuracy for Development Set ['Negative', 'Neutral', 'Positive'] [0.31786217 0.74628571 0.10034014]\n"
          ],
          "name": "stdout"
        },
        {
          "output_type": "display_data",
          "data": {
            "image/png": "[encoded data removed]",
            "text/plain": [
              "<Figure size 432x288 with 2 Axes>"
            ]
          },
          "metadata": {
            "tags": [],
            "needs_background": "light"
          }
        }
      ]
    },
    {
      "cell_type": "markdown",
      "metadata": {
        "id": "1tbm2B50x9-Z"
      },
      "source": [
        "# **Part 4 : Obtain Predictions on File Level**"
      ]
    },
    {
      "cell_type": "markdown",
      "metadata": {
        "id": "PTAtVZB1sEgs"
      },
      "source": [
        "# **Part 5 : Save the Experiment Log**"
      ]
    },
    {
      "cell_type": "code",
      "metadata": {
        "id": "RRY0FD4VXPZy"
      },
      "source": [
        ""
      ],
      "execution_count": null,
      "outputs": []
    }
  ]
}