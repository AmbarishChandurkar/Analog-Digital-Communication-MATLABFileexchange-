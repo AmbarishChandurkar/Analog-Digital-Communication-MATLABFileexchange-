{
  "nbformat": 4,
  "nbformat_minor": 0,
  "metadata": {
    "colab": {
      "name": "BG-ExtremeCase_30Files_CorrectedFeatures(older).ipynb",
      "provenance": [],
      "collapsed_sections": [],
      "toc_visible": true,
      "include_colab_link": true
    },
    "kernelspec": {
      "display_name": "Python 3",
      "language": "python",
      "name": "python3"
    },
    "language_info": {
      "codemirror_mode": {
        "name": "ipython",
        "version": 3
      },
      "file_extension": ".py",
      "mimetype": "text/x-python",
      "name": "python",
      "nbconvert_exporter": "python",
      "pygments_lexer": "ipython3",
      "version": "3.7.5-final"
    }
  },
  "cells": [
    {
      "cell_type": "markdown",
      "metadata": {
        "id": "view-in-github",
        "colab_type": "text"
      },
      "source": [
        "<a href=\"https://colab.research.google.com/github/AmbarishChandurkar/Analog-Digital-Communication-MATLABFileexchange-/blob/master/BG_ExtremeCase_30Files_CorrectedFeatures(older).ipynb\" target=\"_parent\"><img src=\"https://colab.research.google.com/assets/colab-badge.svg\" alt=\"Open In Colab\"/></a>"
      ]
    },
    {
      "cell_type": "code",
      "metadata": {
        "id": "HkTecP6Wxkcq"
      },
      "source": [
        "from importlib import reload\n",
        "reload(iup)"
      ],
      "execution_count": null,
      "outputs": []
    },
    {
      "cell_type": "code",
      "metadata": {
        "id": "4XpNvW1vMShb"
      },
      "source": [
        "from google.colab import drive\n",
        "drive.mount('/content/drive')"
      ],
      "execution_count": null,
      "outputs": []
    },
    {
      "cell_type": "markdown",
      "metadata": {
        "id": "T6a_8LvjkCnr"
      },
      "source": [
        "# **Part 1 : Data Import**"
      ]
    },
    {
      "cell_type": "markdown",
      "metadata": {
        "id": "rivgA_-w1Nv8"
      },
      "source": [
        "## **Step 1.1 : Get the Utterance Files** "
      ]
    },
    {
      "cell_type": "code",
      "metadata": {
        "id": "Bwz0hG5IixSQ"
      },
      "source": [
        "!pip install tftb"
      ],
      "execution_count": null,
      "outputs": []
    },
    {
      "cell_type": "code",
      "metadata": {
        "id": "7pV_J6juYqJd"
      },
      "source": [
        "import sys\n",
        "sys.path.append('/content/IEMOCAPFeatures_Utility.py')\n",
        "import IEMOCAPFeatures_Utility as iup"
      ],
      "execution_count": null,
      "outputs": []
    },
    {
      "cell_type": "code",
      "metadata": {
        "tags": [],
        "id": "ASaYUcBz1Nv_"
      },
      "source": [
        "import IEMOCAPFeatures_Utility as iup\n",
        "import pandas as pd\n",
        "Sessions = [1,2,3,4,5]\n",
        "Utterances = pd.DataFrame()\n",
        "for S in Sessions:\n",
        "  Utterances = pd.concat([Utterances,pd.read_pickle('/content/drive/My Drive/IIIT  College files/4th Year - 7th Semester (Internship)/IEMOCAP_DB/Features and Pickles/UtteranceInfo_S' + str(S) + '.pkl')])  \n",
        "Utterances.head()"
      ],
      "execution_count": null,
      "outputs": []
    },
    {
      "cell_type": "code",
      "metadata": {
        "id": "4gRXIBBkYIci"
      },
      "source": [
        "iup.GetSummary(Utterances)"
      ],
      "execution_count": null,
      "outputs": []
    },
    {
      "cell_type": "code",
      "metadata": {
        "id": "j-8qn8DV2iUn"
      },
      "source": [
        "NT = 2.4\n",
        "PT = 3.9\n",
        "Labels = {'Negative':0,'Neutral':1,'Positive':2}\n",
        "Utterances['V'] = Utterances['V'].apply(lambda x : Labels['Negative'] if x < NT \\\n",
        "                                        else Labels['Positive'] if x > PT else Labels['Neutral'])"
      ],
      "execution_count": null,
      "outputs": []
    },
    {
      "cell_type": "code",
      "metadata": {
        "id": "TdM7nZ_s8Fna"
      },
      "source": [
        "Temp = pd.DataFrame()\n",
        "for V in Labels.values():\n",
        "  Temp = pd.concat([Temp, FeatureSet[FeatureSet['V'] == V].sample(int(min(iup.GetSummary(FeatureSet)['Count'])))],ignore_index=True)\n",
        "FeatureSet = Temp"
      ],
      "execution_count": null,
      "outputs": []
    },
    {
      "cell_type": "code",
      "metadata": {
        "id": "AtATkTKSjAEO"
      },
      "source": [
        "from sklearn.model_selection import train_test_split\n",
        "Labels, nolabels = train_test_split(Utterances,stratify = Utterances.V,test_size = 0.55)"
      ],
      "execution_count": null,
      "outputs": []
    },
    {
      "cell_type": "code",
      "metadata": {
        "id": "rX9Lx-Jj2xX5"
      },
      "source": [
        "iup.GetSummary(Labels)"
      ],
      "execution_count": null,
      "outputs": []
    },
    {
      "cell_type": "markdown",
      "metadata": {
        "id": "UWjn8HAoYIcq"
      },
      "source": [
        "## **Step 1.2 : Import Feature Data**"
      ]
    },
    {
      "cell_type": "code",
      "metadata": {
        "id": "cRN33QeMjcNk"
      },
      "source": [
        "!unzip -q \"/content/drive/My Drive/IIIT  College files/4th Year - 7th Semester (Internship)/IEMOCAP_DB/Session1.zip\" -d \"content/\""
      ],
      "execution_count": null,
      "outputs": []
    },
    {
      "cell_type": "code",
      "metadata": {
        "id": "qHwbcVfA7uqH"
      },
      "source": [
        "FeatureTable = iup.GetTDD_FeatureTable(Labels,'/content/content/content/IEMOCAP_full_release/',\\\n",
        "                                      int(Fs*Shift*1e-3),int(Fs*WS*1e-3),TDDShape)\n",
        "'''\n",
        "FeatureTable = pd.DataFrame()\n",
        "for S in Sessions:\n",
        "  FeatureTable = pd.concat([FeatureTable,pd.read_pickle('/content/drive/My Drive/IIIT  College files/4th Year - 7th Semester (Internship)/IEMOCAP_DB/Features and Pickles/TDDF_S' + str(S) + '_new.pkl')])\n",
        "FeatureTable.head()\n",
        "'''"
      ],
      "execution_count": null,
      "outputs": []
    },
    {
      "cell_type": "code",
      "metadata": {
        "id": "2RDPRK_e2aQ-"
      },
      "source": [
        "FeatureTable.head()"
      ],
      "execution_count": null,
      "outputs": []
    },
    {
      "cell_type": "code",
      "metadata": {
        "id": "jr18BFRjiMUp"
      },
      "source": [
        "FeatureTable.Feature.iloc[0].shape"
      ],
      "execution_count": null,
      "outputs": []
    },
    {
      "cell_type": "markdown",
      "metadata": {
        "id": "-Fd4btqSUj9c"
      },
      "source": [
        "## **Step 1.2 : Import Features**"
      ]
    },
    {
      "cell_type": "code",
      "metadata": {
        "id": "6J4oDc0J_IZY"
      },
      "source": [
        "import pandas as pd\n",
        "TDDF_S1 = pd.read_pickle('/media/ambarish/New Volume/IEMOCAP_DB/Data/Features/TDDF_S1_new.pkl')\n",
        "FeatureTable = TDDF_S1\n",
        "FeatureTable"
      ],
      "execution_count": null,
      "outputs": []
    },
    {
      "cell_type": "markdown",
      "metadata": {
        "id": "q_OdVg3Vx97r"
      },
      "source": [
        "## **Step 2.1 : Select Files and corresponding frames for TrainData**"
      ]
    },
    {
      "cell_type": "code",
      "metadata": {
        "id": "gbm4BC3Fx97s"
      },
      "source": [
        "Files_First50 = Files['TURN_NAME'].iloc[0:50]\n",
        "Files_First50"
      ],
      "execution_count": null,
      "outputs": []
    },
    {
      "cell_type": "code",
      "metadata": {
        "tags": [],
        "id": "-oYMtaySx971"
      },
      "source": [
        "from tqdm import tqdm\n",
        "TrainData = pd.DataFrame([])\n",
        "for Filename in tqdm(Files_First50):\n",
        "    TempTable = FeatureTable\n",
        "    Temp = TempTable.loc[TempTable['SampleName'].apply(lambda x : x.startswith(Filename))]\n",
        "    TrainData = pd.concat([TrainData,Temp])"
      ],
      "execution_count": null,
      "outputs": []
    },
    {
      "cell_type": "code",
      "metadata": {
        "id": "jDoCIVLLx979"
      },
      "source": [
        "TrainData"
      ],
      "execution_count": null,
      "outputs": []
    },
    {
      "cell_type": "markdown",
      "metadata": {
        "id": "0iRC5CFoVBcS"
      },
      "source": [
        "## **Step 2.2 : Select Files and corresponding frames for TestData**"
      ]
    },
    {
      "cell_type": "code",
      "metadata": {
        "id": "U-XbgAcmx98H"
      },
      "source": [
        "Files_Next50 = Files['TURN_NAME'].iloc[50:100]\n",
        "Files_Next50"
      ],
      "execution_count": null,
      "outputs": []
    },
    {
      "cell_type": "code",
      "metadata": {
        "tags": [],
        "id": "ZE34haI8x98O"
      },
      "source": [
        "from tqdm import tqdm\n",
        "DevData = pd.DataFrame([])\n",
        "for Filename in tqdm(Files_Next50):\n",
        "    TempTable = FeatureTable\n",
        "    Temp = TempTable.loc[TempTable['SampleName'].apply(lambda x : x.startswith(Filename))]\n",
        "    DevData = pd.concat([DevData,Temp])"
      ],
      "execution_count": null,
      "outputs": []
    },
    {
      "cell_type": "code",
      "metadata": {
        "id": "EjI2SC99x98V"
      },
      "source": [
        "DevData"
      ],
      "execution_count": null,
      "outputs": []
    },
    {
      "cell_type": "markdown",
      "metadata": {
        "id": "-hVDCafCx98d"
      },
      "source": [
        "## **Step 2.3 : Get Summary for Train and Test Data**"
      ]
    },
    {
      "cell_type": "code",
      "metadata": {
        "id": "0V4YAoMWbGoU"
      },
      "source": [
        "S = iup.GetSummary(TrainData)\n",
        "S"
      ],
      "execution_count": null,
      "outputs": []
    },
    {
      "cell_type": "code",
      "metadata": {
        "id": "UphSG6S7x98l"
      },
      "source": [
        "S = iup.GetSummary(DevData)\n",
        "S"
      ],
      "execution_count": null,
      "outputs": []
    },
    {
      "cell_type": "markdown",
      "metadata": {
        "id": "Q1keULOAVMCw"
      },
      "source": [
        "## **Step 3.1 : (STEP NOT NEEDED)Select only 3 classes for extreme case model**\n",
        "### Since now we are training \"Filewise\" and NOT \"Valence\" wise"
      ]
    },
    {
      "cell_type": "code",
      "metadata": {
        "id": "bsxd4TIntfni"
      },
      "source": [
        "#from numpy import mean\n",
        "#from numpy import std\n",
        "\n",
        "# define dataset\n",
        "#TrainDataSet = pd.DataFrame([])\n",
        "#DevDataSet = pd.DataFrame([])\n",
        "#for Valence in [1.5000,3.0000,4.5000]:\n",
        "#  filte = (TrainData[\"V\"] == Valence)\n",
        "#  VCurr = TrainData[filte]\n",
        "#  TrainDataSet = pd.concat([TrainDataSet,VCurr])\n",
        "\n",
        "#  filte = (DevData[\"V\"] == Valence)\n",
        "#  VCurr = DevData[filte]\n",
        "#  DevDataSet = pd.concat([DevDataSet,VCurr])\n",
        "TrainDataSet = TrainData #For compatibility with forthcoming code\n",
        "DevDataSet = DevData"
      ],
      "execution_count": null,
      "outputs": []
    },
    {
      "cell_type": "code",
      "metadata": {
        "id": "_perjPljE4Mg"
      },
      "source": [
        "S = iup.GetSummary(TrainDataSet)\n",
        "S"
      ],
      "execution_count": null,
      "outputs": []
    },
    {
      "cell_type": "code",
      "metadata": {
        "id": "m1eehPkjx99C"
      },
      "source": [
        "S = iup.GetSummary(DevDataSet)\n",
        "S"
      ],
      "execution_count": null,
      "outputs": []
    },
    {
      "cell_type": "markdown",
      "metadata": {
        "id": "g9ngX-b8x99K"
      },
      "source": [
        "## **Step 3.2 : Map to -1,0,1**"
      ]
    },
    {
      "cell_type": "code",
      "metadata": {
        "id": "uQ0AmT-6x99M"
      },
      "source": [
        "TrainNT = 2.0\n",
        "TrainPT = 3.0\n",
        "#Mapping = {1.5:-1, 3.0:0, 4.5:1}\n",
        "TrainDataSet['V'] = TrainDataSet['V'].apply(lambda x : -1 if x < TrainNT else 1 if x > TrainPT else 0)\n",
        "DevDataSet['V'] = DevDataSet['V'].apply(lambda x : -1 if x < TrainNT else 1 if x > TrainPT else 0)"
      ],
      "execution_count": null,
      "outputs": []
    },
    {
      "cell_type": "code",
      "metadata": {
        "id": "yuYobuh6x99S"
      },
      "source": [
        "iup.GetSummary(TrainDataSet)"
      ],
      "execution_count": null,
      "outputs": []
    },
    {
      "cell_type": "code",
      "metadata": {
        "id": "zGUkAPwoIg3t"
      },
      "source": [
        "iup.GetSummary(DevDataSet)"
      ],
      "execution_count": null,
      "outputs": []
    },
    {
      "cell_type": "markdown",
      "metadata": {
        "id": "p7mLRcFhVoOD"
      },
      "source": [
        "## **Step 4 : Model Training on Train Set and observing the thresholds**"
      ]
    },
    {
      "cell_type": "code",
      "metadata": {
        "id": "0flYnD_kSrUB",
        "tags": []
      },
      "source": [
        "from sklearn.ensemble import BaggingRegressor, RandomForestRegressor\n",
        "RandomForestRegressor()\n",
        "model = BaggingRegressor(base_estimator = RandomForestRegressor(n_estimators = 3, n_jobs = -1, bootstrap=False,min_samples_leaf=5),n_estimators = 3, verbose=1, n_jobs = -1,bootstrap=True)\n",
        "model.fit(TrainDataSet['Feature'].tolist(),TrainDataSet['V'].tolist())"
      ],
      "execution_count": null,
      "outputs": []
    },
    {
      "cell_type": "code",
      "metadata": {
        "id": "y27nkMwtp7Iy"
      },
      "source": [
        "TrainDataResults = pd.DataFrame([])\n",
        "TrainDataResults['SampleName'] = TrainDataSet['SampleName']\n",
        "TrainDataResults['Actual'] = TrainDataSet['V']"
      ],
      "execution_count": null,
      "outputs": []
    },
    {
      "cell_type": "code",
      "metadata": {
        "id": "pVIKuSpYV3F6",
        "tags": []
      },
      "source": [
        "TrainDataResults['Predicted'] = model.predict(TrainDataSet['Feature'].tolist())\n",
        "TrainDataResults = TrainDataResults.sort_values('Actual')"
      ],
      "execution_count": null,
      "outputs": []
    },
    {
      "cell_type": "markdown",
      "metadata": {
        "id": "68hufmZsJM56"
      },
      "source": [
        "## **Step 6.1 : Statistical Guess of the Thresholds**\n",
        "\n",
        "Here, for initial guess,\n",
        "\n",
        "NT = mean(predictions for input of 1) + Std Dev(predictions for input of 1)\n",
        "\n",
        "PT = mean(predictions for input of 5) - Std Dev(predictions for input of 5)"
      ]
    },
    {
      "cell_type": "code",
      "metadata": {
        "id": "_zTB3x1HIQho",
        "tags": []
      },
      "source": [
        "import numpy as np\n",
        "print(np.mean(np.array(TrainDataResults['Predicted'][0:3000].tolist())) + np.std(np.array(TrainDataResults['Predicted'][0:3000].tolist())))\n",
        "print(np.mean(np.array(TrainDataResults['Predicted'][6000:9000].tolist())) - np.std(np.array(TrainDataResults['Predicted'][6000:9000].tolist())))"
      ],
      "execution_count": null,
      "outputs": []
    },
    {
      "cell_type": "markdown",
      "metadata": {
        "id": "3q_b7Jgix99y"
      },
      "source": [
        "## **Step 6.2 : Adjustment of the Thresholds**"
      ]
    },
    {
      "cell_type": "code",
      "metadata": {
        "id": "_U5OoQY-J5wY"
      },
      "source": [
        "PT = 0.15\n",
        "NT = -0.24\n",
        "TrainDataResults['Thresholded'] = TrainDataResults['Predicted'].apply(lambda x : -1.0 if x < NT else 1.0 if x > PT else 0.0)"
      ],
      "execution_count": null,
      "outputs": []
    },
    {
      "cell_type": "code",
      "metadata": {
        "id": "sPShCHB5x996"
      },
      "source": [
        "iup.plotResults(TrainDataResults,NT,PT,'Train','Experiments/BGRFTrain')"
      ],
      "execution_count": null,
      "outputs": []
    },
    {
      "cell_type": "code",
      "metadata": {
        "id": "WEcH_qv3iB-I",
        "tags": []
      },
      "source": [
        "iup.GetCMandMetrics(TrainDataResults,'Train','Experiments/TrainCM')"
      ],
      "execution_count": null,
      "outputs": []
    },
    {
      "cell_type": "markdown",
      "metadata": {
        "id": "e7_fK0inK_m1"
      },
      "source": [
        "## **Step 7 : Run Model on Validation and apply Thresholds on them**"
      ]
    },
    {
      "cell_type": "code",
      "metadata": {
        "id": "MkeitAh7x9-E"
      },
      "source": [
        "DevDataResults = pd.DataFrame([])\n",
        "DevDataResults['SampleName'] = DevDataSet['SampleName']\n",
        "DevDataResults['Actual'] = DevDataSet['V']"
      ],
      "execution_count": null,
      "outputs": []
    },
    {
      "cell_type": "code",
      "metadata": {
        "id": "Qcisd98bKceb",
        "tags": []
      },
      "source": [
        "DevDataResults['Predicted'] = model.predict(DevDataSet['Feature'].tolist())\n",
        "DevDataResults = DevDataResults.sort_values('Actual')"
      ],
      "execution_count": null,
      "outputs": []
    },
    {
      "cell_type": "code",
      "metadata": {
        "id": "DoSuatFhx9-M"
      },
      "source": [
        "iup.plotResults(DevDataResults,NT,PT,'Development','Experiments/BGRFDev')"
      ],
      "execution_count": null,
      "outputs": []
    },
    {
      "cell_type": "code",
      "metadata": {
        "id": "Hf6zo76OLejW"
      },
      "source": [
        "DevDataResults['Thresholded'] = DevDataResults['Predicted'].apply(lambda x : -1.0 if x < NT else 1.0 if x > PT else 0.0)"
      ],
      "execution_count": null,
      "outputs": []
    },
    {
      "cell_type": "code",
      "metadata": {
        "id": "iHaOPEnmLx0U",
        "tags": []
      },
      "source": [
        "iup.GetCMandMetrics(DevDataResults,'Development','Experiments/BGRFDevCM')"
      ],
      "execution_count": null,
      "outputs": []
    },
    {
      "cell_type": "markdown",
      "metadata": {
        "id": "PTAtVZB1sEgs"
      },
      "source": [
        "## **Step 8 : Save the Experiment Log**"
      ]
    },
    {
      "cell_type": "markdown",
      "metadata": {
        "id": "1tbm2B50x9-Z"
      },
      "source": [
        "## **Step 9 : Obtain Predictions on File Level**"
      ]
    },
    {
      "cell_type": "code",
      "metadata": {
        "tags": [],
        "id": "BjUkcYcBx9-a"
      },
      "source": [
        "FilePredictions = pd.DataFrame([])\n",
        "for Filename in tqdm(Files_Next500):\n",
        "    TempTable = DevDataResults\n",
        "    Temp = TempTable.loc[TempTable['SampleName'].apply(lambda x : x.startswith(Filename))]\n",
        "    Predictions = Temp['Thresholded'].to_numpy()\n",
        "    if not(Predictions.shape[0] == 0):\n",
        "        TempDict = {'TURN_NAME' : Filename, 'Predictions' : Predictions, 'Actual' : Temp['Actual'].iloc[0]}\n",
        "        FilePredictions = FilePredictions.append(TempDict,ignore_index=True)"
      ],
      "execution_count": null,
      "outputs": []
    },
    {
      "cell_type": "code",
      "metadata": {
        "id": "5fPgqxMJx9-c"
      },
      "source": [
        "FilePredictions"
      ],
      "execution_count": null,
      "outputs": []
    },
    {
      "cell_type": "code",
      "metadata": {
        "tags": [],
        "id": "UF_GCgzYx9-g"
      },
      "source": [
        "import matplotlib.pyplot as plt\n",
        "import scipy.stats as stats\n",
        "plt.bar(height = FilePredictions['Predictions'].iloc[128])\n",
        "print('Standard Deviation : ',np.std(FilePredictions['Predictions'].iloc[128]))\n",
        "print('Mean : ',np.mean(FilePredictions['Predictions'].iloc[128]))\n",
        "print('Kurtosis : ',stats.kurtosis(FilePredictions['Predictions'].iloc[128]))\n",
        "print('Skew : ',stats.skew(FilePredictions['Predictions'].iloc[128]))\n",
        "print('ChiSquare : ',stats.chisquare(FilePredictions['Predictions'].iloc[128]))"
      ],
      "execution_count": null,
      "outputs": []
    },
    {
      "cell_type": "code",
      "metadata": {
        "id": "-o6fxMhbx9-k"
      },
      "source": [
        "stats.chisquare(FilePredictions['Predictions'].iloc[128])"
      ],
      "execution_count": null,
      "outputs": []
    },
    {
      "cell_type": "code",
      "metadata": {
        "id": "hc-rNmSEx9-o"
      },
      "source": [
        "e = FilePredictions['Predictions'].iloc[128]"
      ],
      "execution_count": null,
      "outputs": []
    },
    {
      "cell_type": "code",
      "metadata": {
        "id": "Ky0Mq7oBx9-t"
      },
      "source": [
        ""
      ],
      "execution_count": null,
      "outputs": []
    }
  ]
}